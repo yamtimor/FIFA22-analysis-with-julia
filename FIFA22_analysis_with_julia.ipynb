{
 "cells": [
  {
   "cell_type": "code",
   "execution_count": 17,
   "id": "e2cc8a03-7e88-45ea-b73e-ef1e490e8de8",
   "metadata": {},
   "outputs": [],
   "source": [
    "using Pkg\n",
    "# Pkg.add(\"Colors\")\n",
    "# Pkg.add(\"Plots\")\n",
    "# Pkg.add(\"DataFrames\")\n",
    "# Pkg.add(\"CSV\")\n",
    "\n",
    "\n",
    "using Colors\n",
    "using Plots\n",
    "using DataFrames\n",
    "using CSV"
   ]
  },
  {
   "cell_type": "markdown",
   "id": "75d20a5f-9e72-4af0-bdec-f8f75b169c52",
   "metadata": {},
   "source": [
    "### Exploring archive folder\n",
    "I downloaded the archive folder from kaggle - https://www.kaggle.com/datasets/stefanoleone992/fifa-22-complete-player-dataset?resource=download\n",
    "And I'm exploring the folder using Julia's file system methods."
   ]
  },
  {
   "cell_type": "code",
   "execution_count": 21,
   "id": "6243df5c-7c55-4621-98cb-a91a6edc2360",
   "metadata": {},
   "outputs": [
    {
     "data": {
      "text/plain": [
       "\"C:\\\\Users\\\\yamti\\\\Documents\\\\julia_projects\\\\FIFA22-analysis-with-julia\\\\archive\""
      ]
     },
     "execution_count": 21,
     "metadata": {},
     "output_type": "execute_result"
    }
   ],
   "source": [
    "pwd()"
   ]
  },
  {
   "cell_type": "code",
   "execution_count": 9,
   "id": "0f5aac56-36af-4418-84a7-c78ff5332ff5",
   "metadata": {},
   "outputs": [],
   "source": [
    "cd(\"C:\\\\Users\\\\yamti\\\\Documents\\\\julia_projects\\\\FIFA22-analysis-with-julia\\\\archive\")"
   ]
  },
  {
   "cell_type": "code",
   "execution_count": 10,
   "id": "2fbb165d-8db9-4457-becf-8bad36e7e0e6",
   "metadata": {},
   "outputs": [
    {
     "data": {
      "text/plain": [
       "\"C:\\\\Users\\\\yamti\\\\Documents\\\\julia_projects\\\\FIFA22-analysis-with-julia\\\\archive\""
      ]
     },
     "execution_count": 10,
     "metadata": {},
     "output_type": "execute_result"
    }
   ],
   "source": [
    "pwd()"
   ]
  },
  {
   "cell_type": "code",
   "execution_count": 15,
   "id": "ffa9a045-a3f8-4f5e-b289-86727d017332",
   "metadata": {},
   "outputs": [
    {
     "data": {
      "text/plain": [
       "17-element Vector{String}:\n",
       " \"Career Mode female player datasets - FIFA 16-22.xlsx\"\n",
       " \"Career Mode player datasets - FIFA 15-22.xlsx\"\n",
       " \"female_players_16.csv\"\n",
       " \"female_players_17.csv\"\n",
       " \"female_players_18.csv\"\n",
       " \"female_players_19.csv\"\n",
       " \"female_players_20.csv\"\n",
       " \"female_players_21.csv\"\n",
       " \"female_players_22.csv\"\n",
       " \"players_15.csv\"\n",
       " \"players_16.csv\"\n",
       " \"players_17.csv\"\n",
       " \"players_18.csv\"\n",
       " \"players_19.csv\"\n",
       " \"players_20.csv\"\n",
       " \"players_21.csv\"\n",
       " \"players_22.csv\""
      ]
     },
     "execution_count": 15,
     "metadata": {},
     "output_type": "execute_result"
    }
   ],
   "source": [
    "readdir()"
   ]
  },
  {
   "cell_type": "code",
   "execution_count": 22,
   "id": "fa4ed115-82d4-484c-89ae-5922f8025ed2",
   "metadata": {},
   "outputs": [
    {
     "ename": "LoadError",
     "evalue": "UndefVarError: file not defined",
     "output_type": "error",
     "traceback": [
      "UndefVarError: file not defined",
      "",
      "Stacktrace:",
      " [1] getproperty(x::Module, f::Symbol)",
      "   @ Base .\\Base.jl:31",
      " [2] top-level scope",
      "   @ In[22]:1",
      " [3] eval",
      "   @ .\\boot.jl:368 [inlined]",
      " [4] include_string(mapexpr::typeof(REPL.softscope), mod::Module, code::String, filename::String)",
      "   @ Base .\\loading.jl:1428"
     ]
    }
   ],
   "source": [
    "CSV.file(\"players_15.csv\")"
   ]
  },
  {
   "cell_type": "code",
   "execution_count": null,
   "id": "3353ac73-9521-402d-86ec-8dcc7c03b1ae",
   "metadata": {},
   "outputs": [],
   "source": []
  }
 ],
 "metadata": {
  "kernelspec": {
   "display_name": "Julia 1.8.0",
   "language": "julia",
   "name": "julia-1.8"
  },
  "language_info": {
   "file_extension": ".jl",
   "mimetype": "application/julia",
   "name": "julia",
   "version": "1.8.0"
  }
 },
 "nbformat": 4,
 "nbformat_minor": 5
}
