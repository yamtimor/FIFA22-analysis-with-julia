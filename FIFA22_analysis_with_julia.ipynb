{
 "cells": [
  {
   "cell_type": "code",
   "execution_count": 30,
   "id": "e2cc8a03-7e88-45ea-b73e-ef1e490e8de8",
   "metadata": {},
   "outputs": [],
   "source": [
    "using Pkg\n",
    "# Pkg.add(\"Colors\")\n",
    "# Pkg.add(\"Plots\")\n",
    "# Pkg.add(\"DataFrames\")\n",
    "# Pkg.add(\"CSV\")\n",
    "# Pkg.add(\"XLSX\")\n",
    "\n",
    "using Colors\n",
    "using Plots\n",
    "using DataFrames\n",
    "using CSV\n",
    "using XLSX"
   ]
  },
  {
   "cell_type": "markdown",
   "id": "75d20a5f-9e72-4af0-bdec-f8f75b169c52",
   "metadata": {},
   "source": [
    "### Exploring archive folder\n",
    "I downloaded the archive folder from kaggle - https://www.kaggle.com/datasets/stefanoleone992/fifa-22-complete-player-dataset?resource=download\n",
    "And I'm exploring the folder using Julia's file system methods."
   ]
  },
  {
   "cell_type": "code",
   "execution_count": 3,
   "id": "6243df5c-7c55-4621-98cb-a91a6edc2360",
   "metadata": {},
   "outputs": [
    {
     "data": {
      "text/plain": [
       "\"C:\\\\Users\\\\yamti\\\\Documents\\\\julia_projects\\\\FIFA22-analysis-with-julia\""
      ]
     },
     "execution_count": 3,
     "metadata": {},
     "output_type": "execute_result"
    }
   ],
   "source": [
    "pwd()"
   ]
  },
  {
   "cell_type": "code",
   "execution_count": 4,
   "id": "0f5aac56-36af-4418-84a7-c78ff5332ff5",
   "metadata": {},
   "outputs": [],
   "source": [
    "cd(\"C:\\\\Users\\\\yamti\\\\Documents\\\\julia_projects\\\\FIFA22-analysis-with-julia\\\\archive\")"
   ]
  },
  {
   "cell_type": "code",
   "execution_count": 5,
   "id": "2fbb165d-8db9-4457-becf-8bad36e7e0e6",
   "metadata": {},
   "outputs": [
    {
     "data": {
      "text/plain": [
       "\"C:\\\\Users\\\\yamti\\\\Documents\\\\julia_projects\\\\FIFA22-analysis-with-julia\\\\archive\""
      ]
     },
     "execution_count": 5,
     "metadata": {},
     "output_type": "execute_result"
    }
   ],
   "source": [
    "pwd()"
   ]
  },
  {
   "cell_type": "code",
   "execution_count": 6,
   "id": "ffa9a045-a3f8-4f5e-b289-86727d017332",
   "metadata": {},
   "outputs": [
    {
     "data": {
      "text/plain": [
       "17-element Vector{String}:\n",
       " \"Career Mode female player datasets - FIFA 16-22.xlsx\"\n",
       " \"Career Mode player datasets - FIFA 15-22.xlsx\"\n",
       " \"female_players_16.csv\"\n",
       " \"female_players_17.csv\"\n",
       " \"female_players_18.csv\"\n",
       " \"female_players_19.csv\"\n",
       " \"female_players_20.csv\"\n",
       " \"female_players_21.csv\"\n",
       " \"female_players_22.csv\"\n",
       " \"players_15.csv\"\n",
       " \"players_16.csv\"\n",
       " \"players_17.csv\"\n",
       " \"players_18.csv\"\n",
       " \"players_19.csv\"\n",
       " \"players_20.csv\"\n",
       " \"players_21.csv\"\n",
       " \"players_22.csv\""
      ]
     },
     "execution_count": 6,
     "metadata": {},
     "output_type": "execute_result"
    }
   ],
   "source": [
    "readdir()"
   ]
  },
  {
   "cell_type": "markdown",
   "id": "e091129d-7401-4a4b-b0c4-835816a02ddc",
   "metadata": {},
   "source": [
    "# EDA"
   ]
  },
  {
   "cell_type": "code",
   "execution_count": 15,
   "id": "fa4ed115-82d4-484c-89ae-5922f8025ed2",
   "metadata": {},
   "outputs": [
    {
     "name": "stdout",
     "output_type": "stream",
     "text": [
      "CSV.File\n"
     ]
    }
   ],
   "source": [
    "csv_reader = CSV.File(\"players_15.csv\")\n",
    "println(typeof(csv_reader))"
   ]
  },
  {
   "cell_type": "code",
   "execution_count": 22,
   "id": "3353ac73-9521-402d-86ec-8dcc7c03b1ae",
   "metadata": {},
   "outputs": [],
   "source": [
    "# df = CSV.File(\"players_15.csv\") |> DataFrame\n",
    "\n",
    "# player_url + sofifa_id"
   ]
  },
  {
   "cell_type": "code",
   "execution_count": 34,
   "id": "cf4241ba-fdfa-4292-8e0c-d800eefd8ad8",
   "metadata": {},
   "outputs": [
    {
     "data": {
      "text/plain": [
       "XLSXFile(\"Career Mode player datasets - FIFA 15-22.xlsx\") containing 8 Worksheets\n",
       "            sheetname size          range        \n",
       "-------------------------------------------------\n",
       "              FIFA 15 16156x110     A1:DF16156   \n",
       "              FIFA 16 15624x110     A1:DF15624   \n",
       "              FIFA 17 17597x110     A1:DF17597   \n",
       "              FIFA 18 17955x110     A1:DF17955   \n",
       "              FIFA 19 18086x110     A1:DF18086   \n",
       "              FIFA 20 18484x110     A1:DF18484   \n",
       "              FIFA 21 18945x110     A1:DF18945   \n",
       "              FIFA 22 19240x110     A1:DF19240   \n"
      ]
     },
     "execution_count": 34,
     "metadata": {},
     "output_type": "execute_result"
    }
   ],
   "source": [
    "xf = XLSX.readxlsx(\"Career Mode player datasets - FIFA 15-22.xlsx\")"
   ]
  },
  {
   "cell_type": "code",
   "execution_count": 35,
   "id": "5f82b26e-89f3-4af8-a3aa-b53f55abaa47",
   "metadata": {},
   "outputs": [
    {
     "data": {
      "text/plain": [
       "19240×110 XLSX.Worksheet: [\"FIFA 22\"](A1:DF19240) "
      ]
     },
     "execution_count": 35,
     "metadata": {},
     "output_type": "execute_result"
    }
   ],
   "source": [
    "xf[\"FIFA 22\"]"
   ]
  },
  {
   "cell_type": "code",
   "execution_count": null,
   "id": "3f768f81-c4ac-4fe1-b139-81445d0783d8",
   "metadata": {},
   "outputs": [],
   "source": []
  }
 ],
 "metadata": {
  "kernelspec": {
   "display_name": "Julia 1.8.0",
   "language": "julia",
   "name": "julia-1.8"
  },
  "language_info": {
   "file_extension": ".jl",
   "mimetype": "application/julia",
   "name": "julia",
   "version": "1.8.0"
  }
 },
 "nbformat": 4,
 "nbformat_minor": 5
}
